{
  "cells": [
    {
      "cell_type": "code",
      "source": [
        "from google.colab import drive\n",
        "drive.mount('/content/drive')"
      ],
      "metadata": {
        "colab": {
          "base_uri": "https://localhost:8080/"
        },
        "id": "fl_JP3NF4uJU",
        "outputId": "fa4ce8b4-d597-4838-fc31-0515bcf2c2d7"
      },
      "execution_count": 3,
      "outputs": [
        {
          "output_type": "stream",
          "name": "stdout",
          "text": [
            "Mounted at /content/drive\n"
          ]
        }
      ]
    },
    {
      "cell_type": "code",
      "execution_count": 4,
      "metadata": {
        "id": "JI4kx5ac4qOz"
      },
      "outputs": [],
      "source": [
        "import os\n",
        "import cv2\n",
        "import numpy as np\n",
        "from sklearn.model_selection import train_test_split\n",
        "from sklearn.preprocessing import LabelEncoder\n",
        "from tensorflow.keras.models import Sequential\n",
        "from tensorflow.keras.layers import Conv2D, MaxPooling2D, Flatten, Dense, Dropout\n",
        "from tensorflow.keras.callbacks import ReduceLROnPlateau, EarlyStopping\n",
        "from tensorflow.keras.preprocessing.image import ImageDataGenerator\n",
        "\n",
        "# Define the directory containing the dataset\n",
        "dataset_dir = \"/content/drive/MyDrive/dataset_coba4\""
      ]
    },
    {
      "cell_type": "code",
      "execution_count": 5,
      "metadata": {
        "id": "YLzDDwLG4qO3"
      },
      "outputs": [],
      "source": [
        "# Define the desired number of samples per class\n",
        "desired_samples_per_class = 15000\n",
        "\n",
        "# Load and preprocess the dataset\n",
        "images = []\n",
        "labels = []\n",
        "\n",
        "# Determine the number of photos per class\n",
        "class_counts = {}\n",
        "for label in os.listdir(dataset_dir):\n",
        "    label_dir = os.path.join(dataset_dir, label)\n",
        "    class_counts[label] = len(os.listdir(label_dir))\n",
        "num_photos_per_class = min(class_counts.values())\n",
        "\n",
        "# Create an ImageDataGenerator for data augmentation\n",
        "datagen = ImageDataGenerator(\n",
        "    rotation_range=10,\n",
        "    zoom_range=0.1,\n",
        "    width_shift_range=0.1,\n",
        "    height_shift_range=0.1,\n",
        "    horizontal_flip=False,\n",
        "    vertical_flip=False\n",
        ")\n",
        "\n",
        "label_encoder = LabelEncoder()\n",
        "label_encoder.fit(os.listdir(dataset_dir))  # Fit the label encoder to the label names\n",
        "\n",
        "for label in os.listdir(dataset_dir):\n",
        "    label_dir = os.path.join(dataset_dir, label)\n",
        "    num_generated_samples = 0\n",
        "    while num_generated_samples < desired_samples_per_class:\n",
        "        for filename in os.listdir(label_dir)[:num_photos_per_class]:\n",
        "            image_path = os.path.join(label_dir, filename)\n",
        "            image = cv2.imread(image_path, cv2.IMREAD_COLOR)  # Load image in BGR format\n",
        "            image = cv2.cvtColor(image, cv2.COLOR_BGR2RGB)  # Convert BGR to RGB\n",
        "            image = cv2.resize(image, (28, 28))\n",
        "            image = image / 255.0  # Normalize pixel values to [0, 1]\n",
        "            images.append(image)\n",
        "            labels.append(label)  # Append the label name\n",
        "            num_generated_samples += 1\n",
        "            if num_generated_samples >= desired_samples_per_class:\n",
        "                break\n",
        "\n",
        "# Convert labels to integers using label encoder\n",
        "labels_encoded = label_encoder.transform(labels)\n",
        "\n",
        "x = np.array(images).reshape(-1, 28, 28, 3)  # Reshape input data to have 3 channels\n",
        "y = np.array(labels_encoded)\n",
        "\n",
        "# Split the dataset into training, validation, and testing sets\n",
        "x_train, x_temp, y_train, y_temp = train_test_split(x, y, test_size=0.2, random_state=42)\n",
        "x_val, x_test, y_val, y_test = train_test_split(x_temp, y_temp, test_size=0.5, random_state=42)"
      ]
    },
    {
      "cell_type": "code",
      "execution_count": 6,
      "metadata": {
        "id": "tOtFdQnx4qO4"
      },
      "outputs": [],
      "source": [
        "# Apply data augmentation to the training set\n",
        "datagen.fit(x_train)"
      ]
    },
    {
      "cell_type": "code",
      "execution_count": 7,
      "metadata": {
        "colab": {
          "base_uri": "https://localhost:8080/"
        },
        "id": "aYeCWvMk4qO5",
        "outputId": "7a524935-6930-48bd-8b2b-00758d78e319"
      },
      "outputs": [
        {
          "output_type": "stream",
          "name": "stdout",
          "text": [
            "Epoch 1/5\n",
            "4875/4875 [==============================] - 86s 17ms/step - loss: 0.3286 - accuracy: 0.8873 - val_loss: 0.0609 - val_accuracy: 0.9777 - lr: 0.0010\n",
            "Epoch 2/5\n",
            "4875/4875 [==============================] - 83s 17ms/step - loss: 0.0722 - accuracy: 0.9765 - val_loss: 0.0278 - val_accuracy: 0.9915 - lr: 0.0010\n",
            "Epoch 3/5\n",
            "4875/4875 [==============================] - 84s 17ms/step - loss: 0.0465 - accuracy: 0.9854 - val_loss: 0.0075 - val_accuracy: 0.9976 - lr: 0.0010\n",
            "Epoch 4/5\n",
            "4875/4875 [==============================] - 84s 17ms/step - loss: 0.0374 - accuracy: 0.9886 - val_loss: 0.0016 - val_accuracy: 0.9991 - lr: 0.0010\n",
            "Epoch 5/5\n",
            "4875/4875 [==============================] - 83s 17ms/step - loss: 0.0294 - accuracy: 0.9911 - val_loss: 0.0012 - val_accuracy: 0.9993 - lr: 0.0010\n"
          ]
        }
      ],
      "source": [
        "# Define the CNN model\n",
        "model = Sequential([\n",
        "    Conv2D(32, (3, 3), activation='relu', input_shape=(28, 28, 3)),  # Update input shape to 3 channels\n",
        "    MaxPooling2D((2, 2)),\n",
        "    Conv2D(64, (3, 3), activation='relu'),\n",
        "    MaxPooling2D((2, 2)),\n",
        "    Conv2D(128, (3, 3), activation='relu'),\n",
        "    MaxPooling2D((2, 2)),\n",
        "    Dropout(0.3),\n",
        "    Flatten(),\n",
        "    Dropout(0.2),\n",
        "    Dense(128, activation='relu'),\n",
        "    Dense(256, activation='relu'),\n",
        "    Dense(len(label_encoder.classes_), activation='softmax')\n",
        "])\n",
        "\n",
        "# Compile the model\n",
        "model.compile(optimizer='adam', loss='sparse_categorical_crossentropy', metrics=['accuracy'])\n",
        "\n",
        "# Train the model with data augmentation\n",
        "history = model.fit(\n",
        "    datagen.flow(x_train, y_train, batch_size=32),\n",
        "    epochs=5,\n",
        "    validation_data=(x_val, y_val),\n",
        "    callbacks=[ReduceLROnPlateau(), EarlyStopping(patience=3)]\n",
        ")"
      ]
    },
    {
      "cell_type": "code",
      "execution_count": 8,
      "metadata": {
        "colab": {
          "base_uri": "https://localhost:8080/"
        },
        "id": "-jC3EUTv4qO7",
        "outputId": "992f637f-d2b7-42f8-8b02-a400d8750b91"
      },
      "outputs": [
        {
          "output_type": "stream",
          "name": "stdout",
          "text": [
            "610/610 [==============================] - 2s 3ms/step - loss: 0.0012 - accuracy: 0.9993\n",
            "Validation Loss: 0.001197724835947156, Validation Accuracy: 0.9993333220481873\n"
          ]
        }
      ],
      "source": [
        "# Evaluate the model\n",
        "loss, accuracy = model.evaluate(x_val, y_val)\n",
        "print(f\"Validation Loss: {loss}, Validation Accuracy: {accuracy}\")"
      ]
    },
    {
      "cell_type": "code",
      "execution_count": 9,
      "metadata": {
        "colab": {
          "base_uri": "https://localhost:8080/",
          "height": 927
        },
        "id": "XS_3L5ps4qO8",
        "outputId": "ecf4fa20-86d8-4e1b-bb50-c6a00b107e05"
      },
      "outputs": [
        {
          "output_type": "display_data",
          "data": {
            "text/plain": [
              "<Figure size 640x480 with 1 Axes>"
            ],
            "image/png": "[encoded data removed]"
          },
          "metadata": {}
        },
        {
          "output_type": "display_data",
          "data": {
            "text/plain": [
              "<Figure size 640x480 with 1 Axes>"
            ],
            "image/png": "[encoded data removed]"
          },
          "metadata": {}
        }
      ],
      "source": [
        "import matplotlib.pyplot as plt\n",
        "\n",
        "# Plot training & validation accuracy values\n",
        "plt.plot(history.history['accuracy'])\n",
        "plt.plot(history.history['val_accuracy'])\n",
        "plt.title('Model accuracy')\n",
        "plt.ylabel('Accuracy')\n",
        "plt.xlabel('Epoch')\n",
        "plt.legend(['Train', 'Validation'], loc='upper left')\n",
        "plt.show()\n",
        "\n",
        "# Plot training & validation loss values\n",
        "plt.plot(history.history['loss'])\n",
        "plt.plot(history.history['val_loss'])\n",
        "plt.title('Model loss')\n",
        "plt.ylabel('Loss')\n",
        "plt.xlabel('Epoch')\n",
        "plt.legend(['Train', 'Validation'], loc='upper left')\n",
        "plt.show()"
      ]
    },
    {
      "cell_type": "code",
      "execution_count": 10,
      "metadata": {
        "colab": {
          "base_uri": "https://localhost:8080/"
        },
        "id": "asPnTgrC4qO9",
        "outputId": "da70c210-d5cc-4c3a-881d-b893baba7ee3"
      },
      "outputs": [
        {
          "output_type": "stream",
          "name": "stderr",
          "text": [
            "/usr/local/lib/python3.10/dist-packages/keras/src/engine/training.py:3103: UserWarning: You are saving your model as an HDF5 file via `model.save()`. This file format is considered legacy. We recommend using instead the native Keras format, e.g. `model.save('my_model.keras')`.\n",
            "  saving_api.save_model(\n"
          ]
        }
      ],
      "source": [
        "# Save the model\n",
        "model.save('smnist_model_augmented_rgb.h5')"
      ]
    },
    {
      "cell_type": "code",
      "execution_count": 11,
      "metadata": {
        "colab": {
          "base_uri": "https://localhost:8080/"
        },
        "id": "ujq5l1yx4qO9",
        "outputId": "1b91d1da-0d4a-4479-c1c9-b2260765a81a"
      },
      "outputs": [
        {
          "output_type": "stream",
          "name": "stdout",
          "text": [
            "Model converted to TFLite and saved as '/content/drive/My Drive/tf_lite_model.tflite'.\n"
          ]
        }
      ],
      "source": [
        "import tensorflow as tf\n",
        "import os\n",
        "\n",
        "# Load the model directly using a relative path or absolute path\n",
        "model_path = 'smnist_model_augmented_rgb.h5' # Adjust this path as necessary\n",
        "model = tf.keras.models.load_model(model_path)\n",
        "\n",
        "# Convert the model to TensorFlow Lite format\n",
        "tflite_converter = tf.lite.TFLiteConverter.from_keras_model(model)\n",
        "tflite_model = tflite_converter.convert()\n",
        "\n",
        "# Define the path to save the TensorFlow Lite model in Google Drive\n",
        "drive_path = '/content/drive/My Drive/tf_lite_model.tflite'\n",
        "\n",
        "# Save the converted model to Google Drive\n",
        "with open(drive_path, \"wb\") as f:\n",
        "    f.write(tflite_model)\n",
        "\n",
        "print(f\"Model converted to TFLite and saved as '{drive_path}'.\")"
      ]
    },
    {
      "cell_type": "code",
      "execution_count": 13,
      "metadata": {
        "colab": {
          "base_uri": "https://localhost:8080/"
        },
        "id": "fmAkZJdN4qO-",
        "outputId": "5f9ef89d-d25b-40c7-e50a-94848c1ec999"
      },
      "outputs": [
        {
          "output_type": "stream",
          "name": "stdout",
          "text": [
            "Requirement already satisfied: tflite-support-nightly in /usr/local/lib/python3.10/dist-packages (0.4.4.dev20230716)\n",
            "Requirement already satisfied: absl-py>=0.7.0 in /usr/local/lib/python3.10/dist-packages (from tflite-support-nightly) (1.4.0)\n",
            "Requirement already satisfied: numpy>=1.20.0 in /usr/local/lib/python3.10/dist-packages (from tflite-support-nightly) (1.25.2)\n",
            "Requirement already satisfied: flatbuffers>=2.0 in /usr/local/lib/python3.10/dist-packages (from tflite-support-nightly) (24.3.25)\n",
            "Requirement already satisfied: protobuf<4,>=3.18.0 in /usr/local/lib/python3.10/dist-packages (from tflite-support-nightly) (3.20.3)\n",
            "Requirement already satisfied: sounddevice>=0.4.4 in /usr/local/lib/python3.10/dist-packages (from tflite-support-nightly) (0.4.7)\n",
            "Requirement already satisfied: pybind11>=2.6.0 in /usr/local/lib/python3.10/dist-packages (from tflite-support-nightly) (2.12.0)\n",
            "Requirement already satisfied: CFFI>=1.0 in /usr/local/lib/python3.10/dist-packages (from sounddevice>=0.4.4->tflite-support-nightly) (1.16.0)\n",
            "Requirement already satisfied: pycparser in /usr/local/lib/python3.10/dist-packages (from CFFI>=1.0->sounddevice>=0.4.4->tflite-support-nightly) (2.22)\n",
            "Drive already mounted at /content/drive; to attempt to forcibly remount, call drive.mount(\"/content/drive\", force_remount=True).\n",
            "{\n",
            "  \"name\": \"ImageClassifier\",\n",
            "  \"description\": \"Identify the most prominent object in the image from a known set of categories.\",\n",
            "  \"subgraph_metadata\": [\n",
            "    {\n",
            "      \"input_tensor_metadata\": [\n",
            "        {\n",
            "          \"name\": \"image\",\n",
            "          \"description\": \"Input image to be classified.\",\n",
            "          \"content\": {\n",
            "            \"content_properties_type\": \"ImageProperties\",\n",
            "            \"content_properties\": {\n",
            "              \"color_space\": \"RGB\"\n",
            "            }\n",
            "          },\n",
            "          \"process_units\": [\n",
            "            {\n",
            "              \"options_type\": \"NormalizationOptions\",\n",
            "              \"options\": {\n",
            "                \"mean\": [\n",
            "                  127.5\n",
            "                ],\n",
            "                \"std\": [\n",
            "                  127.5\n",
            "                ]\n",
            "              }\n",
            "            }\n",
            "          ],\n",
            "          \"stats\": {\n",
            "            \"max\": [\n",
            "              1.0\n",
            "            ],\n",
            "            \"min\": [\n",
            "              -1.0\n",
            "            ]\n",
            "          }\n",
            "        }\n",
            "      ],\n",
            "      \"output_tensor_metadata\": [\n",
            "        {\n",
            "          \"name\": \"probability\",\n",
            "          \"description\": \"Probabilities of the labels respectively.\",\n",
            "          \"content\": {\n",
            "            \"content_properties_type\": \"FeatureProperties\",\n",
            "            \"content_properties\": {\n",
            "            }\n",
            "          },\n",
            "          \"stats\": {\n",
            "            \"max\": [\n",
            "              1.0\n",
            "            ],\n",
            "            \"min\": [\n",
            "              0.0\n",
            "            ]\n",
            "          },\n",
            "          \"associated_files\": [\n",
            "            {\n",
            "              \"name\": \"label1.txt\",\n",
            "              \"description\": \"Labels for categories that the model can recognize.\",\n",
            "              \"type\": \"TENSOR_AXIS_LABELS\"\n",
            "            }\n",
            "          ]\n",
            "        }\n",
            "      ]\n",
            "    }\n",
            "  ]\n",
            "}\n",
            "\n"
          ]
        }
      ],
      "source": [
        "# Adding metadata to the TensorFlow Lite model\n",
        "!pip install tflite-support-nightly\n",
        "from tflite_support.metadata_writers import image_classifier\n",
        "from tflite_support.metadata_writers import writer_utils\n",
        "from google.colab import drive\n",
        "drive.mount('/content/drive')\n",
        "\n",
        "ImageClassifierWriter = image_classifier.MetadataWriter\n",
        "_MODEL_PATH = '/content/drive/My Drive/tf_lite_model.tflite'\n",
        "_LABEL_FILE = \"/content/drive/MyDrive/label1.txt\"\n",
        "_SAVE_TO_PATH = \"/content/drive/MyDrive/model_metadata.tflite\"\n",
        "_INPUT_NORM_MEAN = 127.5\n",
        "_INPUT_NORM_STD = 127.5\n",
        "\n",
        "# Create the metadata writer\n",
        "writer = ImageClassifierWriter.create_for_inference(\n",
        "    writer_utils.load_file(_MODEL_PATH), [_INPUT_NORM_MEAN], [_INPUT_NORM_STD], [_LABEL_FILE]\n",
        ")\n",
        "\n",
        "# Verify the metadata generated by metadata writer\n",
        "print(writer.get_metadata_json())\n",
        "\n",
        "# Populate the metadata into the model\n",
        "writer_utils.save_file(writer.populate(), _SAVE_TO_PATH)"
      ]
    }
  ],
  "metadata": {
    "kernelspec": {
      "display_name": "Python 3",
      "name": "python3"
    },
    "language_info": {
      "codemirror_mode": {
        "name": "ipython",
        "version": 3
      },
      "file_extension": ".py",
      "mimetype": "text/x-python",
      "name": "python",
      "nbconvert_exporter": "python",
      "pygments_lexer": "ipython3",
      "version": "3.11.9"
    },
    "colab": {
      "provenance": [],
      "gpuType": "V28"
    },
    "accelerator": "TPU"
  },
  "nbformat": 4,
  "nbformat_minor": 0
}